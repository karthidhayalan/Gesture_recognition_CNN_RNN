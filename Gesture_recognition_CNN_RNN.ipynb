{
 "cells": [
  {
   "cell_type": "markdown",
   "metadata": {
    "id": "N7OSKfFwz3Q1"
   },
   "source": [
    "# Gesture Recognition\n",
    "In this group project, you are going to build a 3D Conv model that will be able to predict the 5 gestures correctly. Please import the following libraries to get started."
   ]
  },
  {
   "cell_type": "code",
   "execution_count": 8,
   "metadata": {
    "id": "PnwCYmsNz3Q7"
   },
   "outputs": [],
   "source": [
    "import numpy as np\n",
    "import os\n",
    "from scipy.misc import imread, imresize\n",
    "import datetime\n",
    "import os"
   ]
  },
  {
   "cell_type": "markdown",
   "metadata": {
    "id": "mDfWTSpCz3Q8"
   },
   "source": [
    "We set the random seed so that the results don't vary drastically."
   ]
  },
  {
   "cell_type": "code",
   "execution_count": 9,
   "metadata": {
    "id": "GvRef3RAz3Q9"
   },
   "outputs": [],
   "source": [
    "np.random.seed(30)\n",
    "import random as rn\n",
    "rn.seed(30)\n",
    "from keras import backend as K\n",
    "import tensorflow as tf\n",
    "tf.random.set_seed(30)  #set_random_seed(30)\n",
    "from keras.layers import Dropout"
   ]
  },
  {
   "cell_type": "markdown",
   "metadata": {
    "id": "VjhmZo1vz3Q-"
   },
   "source": [
    "In this block, you read the folder names for training and validation. You also set the `batch_size` here. Note that you set the batch size in such a way that you are able to use the GPU in full capacity. You keep increasing the batch size until the machine throws an error."
   ]
  },
  {
   "cell_type": "code",
   "execution_count": 10,
   "metadata": {
    "id": "5sl4Qpg5z3Q-"
   },
   "outputs": [],
   "source": [
    "train_doc = np.random.permutation(open('Project_data/train.csv').readlines())\n",
    "val_doc = np.random.permutation(open('Project_data/val.csv').readlines())\n",
    "batch_size = 30 #experiment with the batch size"
   ]
  },
  {
   "cell_type": "markdown",
   "metadata": {
    "id": "txLSZR4kz3Q_"
   },
   "source": [
    "## Generator\n",
    "This is one of the most important part of the code. The overall structure of the generator has been given. In the generator, you are going to preprocess the images as you have images of 2 different dimensions as well as create a batch of video frames. You have to experiment with `img_idx`, `y`,`z` and normalization such that you get high accuracy."
   ]
  },
  {
   "cell_type": "code",
   "execution_count": 11,
   "metadata": {
    "id": "ZVMY65LXz3Q_"
   },
   "outputs": [],
   "source": [
    "def generator(source_path, folder_list, batch_size):\n",
    "    print( 'Source path = ', source_path, '; batch size =', batch_size)\n",
    "    img_idx = [0,2,4,5,6,7,8,9,10,12,14,16,18,20,22,24,26,28] #create a list of image numbers you want to use for a particular video\n",
    "    while True:\n",
    "        t = np.random.permutation(folder_list)\n",
    "        num_batches =  len(t)//batch_size # calculate the number of batches\n",
    "        for batch in range(num_batches): # we iterate over the number of batches  \n",
    "            batch_data = np.zeros((batch_size,18,84,84,3)) # x is the number of images you use for each video, (y,z) is the final size of the input images and 3 is the number of channels RGB\n",
    "            batch_labels = np.zeros((batch_size,5)) # batch_labels is the one hot representation of the output\n",
    "            for folder in range(batch_size): # iterate over the batch_size\n",
    "                imgs = os.listdir(source_path+'/'+ t[folder + (batch*batch_size)].split(';')[0]) # read all the images in the folder\n",
    "                for idx,item in enumerate(img_idx): #  Iterate iver the frames/images of a folder to read them in\n",
    "                    image = imread(source_path+'/'+ t[folder + (batch*batch_size)].strip().split(';')[0]+'/'+imgs[item]).astype(np.float32)\n",
    "                    \n",
    "                    #crop the images and resize them. Note that the images are of 2 different shape \n",
    "                    if image.shape[1] == 160:\n",
    "                        image = imresize(image[:,20:140,:],(84,84)).astype(np.float32)\n",
    "                    else:\n",
    "                        image = imresize(image,(84,84)).astype(np.float32)\n",
    "                    #and the conv3D will throw error if the inputs in a batch have different shapes\n",
    "                    \n",
    "                    batch_data[folder,idx,:,:,0] = image[:,:,0]/255.0 #normalise and feed in the image\n",
    "                    batch_data[folder,idx,:,:,1] = image[:,:,1]/255.0#normalise and feed in the image\n",
    "                    batch_data[folder,idx,:,:,2] = image[:,:,2]/255.0#normalise and feed in the image\n",
    "                    \n",
    "                batch_labels[folder, int(t[folder + (batch*batch_size)].strip().split(';')[2])] = 1\n",
    "            yield batch_data, batch_labels #you yield the batch_data and the batch_labels, remember what does yield do\n",
    "\n",
    "        \n",
    "        # write the code for the remaining data points which are left after full batches\n",
    "\n",
    "        if(len(t)%batch_size != 0):\n",
    "            batch_data = np.zeros((len(t)%batch_size,18,84,84,3)) # x is the number of images you use for each video, (y,z) is the final size of the input images and 3 is the number of channels RGB # np.zeros((batch_size,18,84,84,3))\n",
    "            batch_labels = np.zeros((len(t)%batch_size ,5)) # batch_labels is the one hot representation of the output\n",
    "            for folder in range(len(t)%batch_size ): # iterate over the batch_size 0,1,2,....63\n",
    "                imgs = os.listdir(source_path+'/'+ t[folder + (num_batches*batch_size)].split(';')[0]) # read all the images in the folder\n",
    "                for idx,item in enumerate(img_idx): #  Iterate iver the frames/images of a folder to read them in\n",
    "                    image = imread(source_path+'/'+ t[folder + (num_batches*batch_size)].strip().split(';')[0]+'/'+imgs[item]).astype(np.float32)\n",
    "                    \n",
    "                    #crop the images and resize them. Note that the images are of 2 different shape \n",
    "                    if image.shape[1] == 160:\n",
    "                        image = imresize(image[:,20:140,:],(84,84)).astype(np.float32)\n",
    "                    else:\n",
    "                        image = imresize(image,(84,84)).astype(np.float32)\n",
    "                    #and the conv3D will throw error if the inputs in a batch have different shapes\n",
    "                    \n",
    "                    batch_data[folder,idx,:,:,0] = image[:,:,0]/255.0 #normalise and feed in the image\n",
    "                    batch_data[folder,idx,:,:,1] = image[:,:,1]/255.0 #normalise and feed in the image\n",
    "                    batch_data[folder,idx,:,:,2] = image[:,:,2]/255.0 #normalise and feed in the image\n",
    "                    \n",
    "                batch_labels[folder, int(t[folder + (num_batches*batch_size)].strip().split(';')[2])] = 1 # OHE\n",
    "            yield batch_data, batch_labels #you yield the batch_data and the batch_labels, remember what does yield do\n"
   ]
  },
  {
   "cell_type": "markdown",
   "metadata": {
    "id": "K-AJIdqjz3RB"
   },
   "source": [
    "Note here that a video is represented above in the generator as (number of images, height, width, number of channels). Take this into consideration while creating the model architecture."
   ]
  },
  {
   "cell_type": "code",
   "execution_count": 12,
   "metadata": {
    "colab": {
     "base_uri": "https://localhost:8080/"
    },
    "id": "B0tbt9bZz3RC",
    "outputId": "80356f45-77bb-4367-f55a-be977595ea11"
   },
   "outputs": [
    {
     "name": "stdout",
     "output_type": "stream",
     "text": [
      "# training sequences = 663\n",
      "# validation sequences = 100\n",
      "# epochs = 30\n"
     ]
    }
   ],
   "source": [
    "curr_dt_time = datetime.datetime.now()\n",
    "train_path = 'Project_data/train'\n",
    "val_path = 'Project_data/val'\n",
    "num_train_sequences = len(train_doc)\n",
    "print('# training sequences =', num_train_sequences)\n",
    "num_val_sequences = len(val_doc)\n",
    "print('# validation sequences =', num_val_sequences)\n",
    "num_epochs = 30 # choose the number of epochs\n",
    "print ('# epochs =', num_epochs)"
   ]
  },
  {
   "cell_type": "markdown",
   "metadata": {
    "id": "joNiyjjpz3RC"
   },
   "source": [
    "## Model\n",
    "Here you make the model using different functionalities that Keras provides. Remember to use `Conv3D` and `MaxPooling3D` and not `Conv2D` and `Maxpooling2D` for a 3D convolution model. You would want to use `TimeDistributed` while building a Conv2D + RNN model. Also remember that the last layer is the softmax. Design the network in such a way that the model is able to give good accuracy on the least number of parameters so that it can fit in the memory of the webcam."
   ]
  },
  {
   "cell_type": "code",
   "execution_count": 13,
   "metadata": {
    "id": "c77mRGab5TfW"
   },
   "outputs": [
    {
     "name": "stderr",
     "output_type": "stream",
     "text": [
      "W0712 11:32:51.630877 139895377352512 mobilenet.py:216] `input_shape` is undefined or non-square, or `rows` is not in [128, 160, 192, 224]. Weights for input shape (224, 224) will be loaded as the default.\n"
     ]
    }
   ],
   "source": [
    "from keras.models import Sequential, Model\n",
    "from keras.layers import Dense, GRU, Flatten, TimeDistributed, Flatten, BatchNormalization, Activation\n",
    "from keras.layers.convolutional import MaxPooling2D\n",
    "from keras.callbacks import ModelCheckpoint, ReduceLROnPlateau, EarlyStopping\n",
    "from keras import optimizers\n",
    "from keras.applications import mobilenet\n",
    "\n",
    "#write your model here\n",
    "# Transfer Learning\n",
    "mobilenet_transfer = mobilenet.MobileNet(weights='imagenet', include_top=False)\n",
    "\n",
    "# RNN\n",
    "model = Sequential()\n",
    "model.add(TimeDistributed(mobilenet_transfer,input_shape=(18,84,84,3)))\n",
    "\n",
    "model.add(TimeDistributed(BatchNormalization()))\n",
    "model.add(TimeDistributed(MaxPooling2D((2, 2))))\n",
    "model.add(TimeDistributed(Flatten()))\n",
    "\n",
    "model.add(GRU(128))\n",
    "model.add(Dropout(0.25))\n",
    "\n",
    "model.add(Dense(128,activation='relu'))\n",
    "model.add(Dropout(0.25))\n",
    "\n",
    "model.add(Dense(5, activation='softmax'))"
   ]
  },
  {
   "cell_type": "markdown",
   "metadata": {},
   "source": [
    "Now that you have written the model, the next step is to compile the model. When you print the summary of the model, you'll see the total number of parameters you have to train."
   ]
  },
  {
   "cell_type": "code",
   "execution_count": 14,
   "metadata": {
    "colab": {
     "base_uri": "https://localhost:8080/"
    },
    "id": "-elGTOof5b6O",
    "outputId": "c44aa1a4-dab2-498a-fb53-c16a70dea4a0"
   },
   "outputs": [
    {
     "name": "stdout",
     "output_type": "stream",
     "text": [
      "Model: \"sequential_1\"\n",
      "_________________________________________________________________\n",
      "Layer (type)                 Output Shape              Param #   \n",
      "=================================================================\n",
      "time_distributed_4 (TimeDist (None, 18, 2, 2, 1024)    3228864   \n",
      "_________________________________________________________________\n",
      "time_distributed_5 (TimeDist (None, 18, 2, 2, 1024)    4096      \n",
      "_________________________________________________________________\n",
      "time_distributed_6 (TimeDist (None, 18, 1, 1, 1024)    0         \n",
      "_________________________________________________________________\n",
      "time_distributed_7 (TimeDist (None, 18, 1024)          0         \n",
      "_________________________________________________________________\n",
      "gru_1 (GRU)                  (None, 128)               443136    \n",
      "_________________________________________________________________\n",
      "dropout_2 (Dropout)          (None, 128)               0         \n",
      "_________________________________________________________________\n",
      "dense_2 (Dense)              (None, 128)               16512     \n",
      "_________________________________________________________________\n",
      "dropout_3 (Dropout)          (None, 128)               0         \n",
      "_________________________________________________________________\n",
      "dense_3 (Dense)              (None, 5)                 645       \n",
      "=================================================================\n",
      "Total params: 3,693,253\n",
      "Trainable params: 3,669,317\n",
      "Non-trainable params: 23,936\n",
      "_________________________________________________________________\n",
      "None\n"
     ]
    }
   ],
   "source": [
    "optimiser = optimizers.Adam()\n",
    "model.compile(optimizer=optimiser, loss='categorical_crossentropy', metrics=['categorical_accuracy'])\n",
    "print (model.summary())"
   ]
  },
  {
   "cell_type": "markdown",
   "metadata": {},
   "source": [
    "Let us create the train_generator and the val_generator which will be used in .fit_generator."
   ]
  },
  {
   "cell_type": "code",
   "execution_count": 15,
   "metadata": {
    "id": "3hLotul-z3RG"
   },
   "outputs": [],
   "source": [
    "train_generator = generator(train_path, train_doc, batch_size)\n",
    "val_generator = generator(val_path, val_doc, batch_size)"
   ]
  },
  {
   "cell_type": "code",
   "execution_count": 16,
   "metadata": {
    "id": "2keH44_2z3RH"
   },
   "outputs": [
    {
     "name": "stderr",
     "output_type": "stream",
     "text": [
      "W0712 11:32:59.522457 139895377352512 callbacks.py:1071] `period` argument is deprecated. Please use `save_freq` to specify the frequency in number of batches seen.\n"
     ]
    }
   ],
   "source": [
    "model_name = 'model_init' + '_' + str(curr_dt_time).replace(' ','').replace(':','_') + '/'\n",
    "    \n",
    "if not os.path.exists(model_name):\n",
    "    os.mkdir(model_name)\n",
    "        \n",
    "filepath = model_name + 'model-{epoch:05d}-{loss:.5f}-{categorical_accuracy:.5f}-{val_loss:.5f}-{val_categorical_accuracy:.5f}.h5'\n",
    "\n",
    "checkpoint = ModelCheckpoint(filepath, monitor='val_loss', verbose=1, save_best_only=False, save_weights_only=False, mode='auto', period=1)\n",
    "\n",
    "LR = ReduceLROnPlateau(monitor='val_loss', factor=0.2, patience=4, verbose=1) # write the REducelronplateau code here\n",
    "earlystop = EarlyStopping( patience=10,restore_best_weights=True)\n",
    "callbacks_list =[checkpoint, LR,earlystop]"
   ]
  },
  {
   "cell_type": "markdown",
   "metadata": {
    "id": "lLHaedIPz3RH"
   },
   "source": [
    "The `steps_per_epoch` and `validation_steps` are used by `fit_generator` to decide the number of next() calls it need to make."
   ]
  },
  {
   "cell_type": "code",
   "execution_count": 17,
   "metadata": {
    "id": "dzK6Lxjiz3RI"
   },
   "outputs": [],
   "source": [
    "if (num_train_sequences%batch_size) == 0:\n",
    "    steps_per_epoch = int(num_train_sequences/batch_size)\n",
    "else:\n",
    "    steps_per_epoch = (num_train_sequences//batch_size) + 1\n",
    "\n",
    "if (num_val_sequences%batch_size) == 0:\n",
    "    validation_steps = int(num_val_sequences/batch_size)\n",
    "else:\n",
    "    validation_steps = (num_val_sequences//batch_size) + 1"
   ]
  },
  {
   "cell_type": "code",
   "execution_count": 18,
   "metadata": {
    "colab": {
     "base_uri": "https://localhost:8080/"
    },
    "id": "2-8gxEqh5yRG",
    "outputId": "204020bb-ad06-4fd3-b207-a736356d18bf"
   },
   "outputs": [
    {
     "name": "stderr",
     "output_type": "stream",
     "text": [
      "W0712 11:33:10.845808 139895377352512 deprecation.py:323] From <ipython-input-18-78bdefd3db9c>:3: Model.fit_generator (from tensorflow.python.keras.engine.training) is deprecated and will be removed in a future version.\n",
      "Instructions for updating:\n",
      "Please use Model.fit, which supports generators.\n",
      "/mnt/disks/user/anaconda3/lib/python3.7/site-packages/ipykernel_launcher.py:13: DeprecationWarning: `imread` is deprecated!\n",
      "`imread` is deprecated in SciPy 1.0.0, and will be removed in 1.2.0.\n",
      "Use ``imageio.imread`` instead.\n",
      "  del sys.path[0]\n",
      "/mnt/disks/user/anaconda3/lib/python3.7/site-packages/ipykernel_launcher.py:17: DeprecationWarning: `imresize` is deprecated!\n",
      "`imresize` is deprecated in SciPy 1.0.0, and will be removed in 1.3.0.\n",
      "Use Pillow instead: ``numpy.array(Image.fromarray(arr).resize())``.\n"
     ]
    },
    {
     "name": "stdout",
     "output_type": "stream",
     "text": [
      "Source path =  Project_data/train ; batch size = 30\n"
     ]
    },
    {
     "name": "stderr",
     "output_type": "stream",
     "text": [
      "/mnt/disks/user/anaconda3/lib/python3.7/site-packages/ipykernel_launcher.py:19: DeprecationWarning: `imresize` is deprecated!\n",
      "`imresize` is deprecated in SciPy 1.0.0, and will be removed in 1.3.0.\n",
      "Use Pillow instead: ``numpy.array(Image.fromarray(arr).resize())``.\n"
     ]
    },
    {
     "name": "stdout",
     "output_type": "stream",
     "text": [
      "Epoch 1/30\n",
      "21/23 [==========================>...] - ETA: 3s - loss: 1.2686 - categorical_accuracy: 0.4921"
     ]
    },
    {
     "name": "stderr",
     "output_type": "stream",
     "text": [
      "/mnt/disks/user/anaconda3/lib/python3.7/site-packages/ipykernel_launcher.py:38: DeprecationWarning: `imread` is deprecated!\n",
      "`imread` is deprecated in SciPy 1.0.0, and will be removed in 1.2.0.\n",
      "Use ``imageio.imread`` instead.\n",
      "/mnt/disks/user/anaconda3/lib/python3.7/site-packages/ipykernel_launcher.py:42: DeprecationWarning: `imresize` is deprecated!\n",
      "`imresize` is deprecated in SciPy 1.0.0, and will be removed in 1.3.0.\n",
      "Use Pillow instead: ``numpy.array(Image.fromarray(arr).resize())``.\n",
      "/mnt/disks/user/anaconda3/lib/python3.7/site-packages/ipykernel_launcher.py:44: DeprecationWarning: `imresize` is deprecated!\n",
      "`imresize` is deprecated in SciPy 1.0.0, and will be removed in 1.3.0.\n",
      "Use Pillow instead: ``numpy.array(Image.fromarray(arr).resize())``.\n"
     ]
    },
    {
     "name": "stdout",
     "output_type": "stream",
     "text": [
      "23/23 [==============================] - ETA: 0s - loss: 1.2632 - categorical_accuracy: 0.4947Source path =  Project_data/val ; batch size = 30\n",
      "\n",
      "Epoch 00001: saving model to model_init_2021-07-1211_32_43.416098/model-00001-1.26324-0.49472-1.39141-0.39000.h5\n",
      "23/23 [==============================] - 45s 2s/step - loss: 1.2632 - categorical_accuracy: 0.4947 - val_loss: 1.3914 - val_categorical_accuracy: 0.3900 - lr: 0.0010\n",
      "Epoch 2/30\n",
      "22/23 [===========================>..] - ETA: 1s - loss: 0.5402 - categorical_accuracy: 0.7879\n",
      "Epoch 00002: saving model to model_init_2021-07-1211_32_43.416098/model-00002-0.54346-0.78431-1.88259-0.27000.h5\n",
      "23/23 [==============================] - 45s 2s/step - loss: 0.5435 - categorical_accuracy: 0.7843 - val_loss: 1.8826 - val_categorical_accuracy: 0.2700 - lr: 0.0010\n",
      "Epoch 3/30\n",
      "22/23 [===========================>..] - ETA: 1s - loss: 0.2856 - categorical_accuracy: 0.9106\n",
      "Epoch 00003: saving model to model_init_2021-07-1211_32_43.416098/model-00003-0.28872-0.90950-1.58474-0.34000.h5\n",
      "23/23 [==============================] - 44s 2s/step - loss: 0.2887 - categorical_accuracy: 0.9095 - val_loss: 1.5847 - val_categorical_accuracy: 0.3400 - lr: 0.0010\n",
      "Epoch 4/30\n",
      "22/23 [===========================>..] - ETA: 1s - loss: 0.2004 - categorical_accuracy: 0.9318\n",
      "Epoch 00004: saving model to model_init_2021-07-1211_32_43.416098/model-00004-0.20207-0.93062-1.68340-0.40000.h5\n",
      "23/23 [==============================] - 43s 2s/step - loss: 0.2021 - categorical_accuracy: 0.9306 - val_loss: 1.6834 - val_categorical_accuracy: 0.4000 - lr: 0.0010\n",
      "Epoch 5/30\n",
      "22/23 [===========================>..] - ETA: 1s - loss: 0.2254 - categorical_accuracy: 0.9273\n",
      "Epoch 00005: saving model to model_init_2021-07-1211_32_43.416098/model-00005-0.23380-0.92459-2.22200-0.38000.h5\n",
      "\n",
      "Epoch 00005: ReduceLROnPlateau reducing learning rate to 0.00020000000949949026.\n",
      "23/23 [==============================] - 44s 2s/step - loss: 0.2338 - categorical_accuracy: 0.9246 - val_loss: 2.2220 - val_categorical_accuracy: 0.3800 - lr: 0.0010\n",
      "Epoch 6/30\n",
      "22/23 [===========================>..] - ETA: 1s - loss: 0.1401 - categorical_accuracy: 0.9485\n",
      "Epoch 00006: saving model to model_init_2021-07-1211_32_43.416098/model-00006-0.14034-0.94872-1.75698-0.47000.h5\n",
      "23/23 [==============================] - 45s 2s/step - loss: 0.1403 - categorical_accuracy: 0.9487 - val_loss: 1.7570 - val_categorical_accuracy: 0.4700 - lr: 2.0000e-04\n",
      "Epoch 7/30\n",
      "22/23 [===========================>..] - ETA: 1s - loss: 0.0892 - categorical_accuracy: 0.9727\n",
      "Epoch 00007: saving model to model_init_2021-07-1211_32_43.416098/model-00007-0.09827-0.96983-1.32777-0.56000.h5\n",
      "23/23 [==============================] - 45s 2s/step - loss: 0.0983 - categorical_accuracy: 0.9698 - val_loss: 1.3278 - val_categorical_accuracy: 0.5600 - lr: 2.0000e-04\n",
      "Epoch 8/30\n",
      "22/23 [===========================>..] - ETA: 1s - loss: 0.0424 - categorical_accuracy: 0.9894\n",
      "Epoch 00008: saving model to model_init_2021-07-1211_32_43.416098/model-00008-0.05815-0.98643-1.07142-0.62000.h5\n",
      "23/23 [==============================] - 43s 2s/step - loss: 0.0582 - categorical_accuracy: 0.9864 - val_loss: 1.0714 - val_categorical_accuracy: 0.6200 - lr: 2.0000e-04\n",
      "Epoch 9/30\n",
      "22/23 [===========================>..] - ETA: 1s - loss: 0.0368 - categorical_accuracy: 0.9955\n",
      "Epoch 00009: saving model to model_init_2021-07-1211_32_43.416098/model-00009-0.04097-0.99397-0.71341-0.72000.h5\n",
      "23/23 [==============================] - 44s 2s/step - loss: 0.0410 - categorical_accuracy: 0.9940 - val_loss: 0.7134 - val_categorical_accuracy: 0.7200 - lr: 2.0000e-04\n",
      "Epoch 10/30\n",
      "22/23 [===========================>..] - ETA: 1s - loss: 0.0605 - categorical_accuracy: 0.9848\n",
      "Epoch 00010: saving model to model_init_2021-07-1211_32_43.416098/model-00010-0.06067-0.98492-0.83387-0.75000.h5\n",
      "23/23 [==============================] - 44s 2s/step - loss: 0.0607 - categorical_accuracy: 0.9849 - val_loss: 0.8339 - val_categorical_accuracy: 0.7500 - lr: 2.0000e-04\n",
      "Epoch 11/30\n",
      "22/23 [===========================>..] - ETA: 1s - loss: 0.0655 - categorical_accuracy: 0.9803\n",
      "Epoch 00011: saving model to model_init_2021-07-1211_32_43.416098/model-00011-0.06904-0.97888-0.44363-0.86000.h5\n",
      "23/23 [==============================] - 45s 2s/step - loss: 0.0690 - categorical_accuracy: 0.9789 - val_loss: 0.4436 - val_categorical_accuracy: 0.8600 - lr: 2.0000e-04\n",
      "Epoch 12/30\n",
      "22/23 [===========================>..] - ETA: 1s - loss: 0.0296 - categorical_accuracy: 0.9924\n",
      "Epoch 00012: saving model to model_init_2021-07-1211_32_43.416098/model-00012-0.03006-0.99246-0.50188-0.84000.h5\n",
      "23/23 [==============================] - 43s 2s/step - loss: 0.0301 - categorical_accuracy: 0.9925 - val_loss: 0.5019 - val_categorical_accuracy: 0.8400 - lr: 2.0000e-04\n",
      "Epoch 13/30\n",
      "22/23 [===========================>..] - ETA: 1s - loss: 0.0241 - categorical_accuracy: 0.9970\n",
      "Epoch 00013: saving model to model_init_2021-07-1211_32_43.416098/model-00013-0.02906-0.99548-0.48061-0.83000.h5\n",
      "23/23 [==============================] - 43s 2s/step - loss: 0.0291 - categorical_accuracy: 0.9955 - val_loss: 0.4806 - val_categorical_accuracy: 0.8300 - lr: 2.0000e-04\n",
      "Epoch 14/30\n",
      "22/23 [===========================>..] - ETA: 1s - loss: 0.0411 - categorical_accuracy: 0.9909\n",
      "Epoch 00014: saving model to model_init_2021-07-1211_32_43.416098/model-00014-0.04098-0.99095-0.38454-0.85000.h5\n",
      "23/23 [==============================] - 44s 2s/step - loss: 0.0410 - categorical_accuracy: 0.9910 - val_loss: 0.3845 - val_categorical_accuracy: 0.8500 - lr: 2.0000e-04\n",
      "Epoch 15/30\n",
      "22/23 [===========================>..] - ETA: 1s - loss: 0.0270 - categorical_accuracy: 0.9924\n",
      "Epoch 00015: saving model to model_init_2021-07-1211_32_43.416098/model-00015-0.03393-0.99095-0.43027-0.86000.h5\n",
      "23/23 [==============================] - 45s 2s/step - loss: 0.0339 - categorical_accuracy: 0.9910 - val_loss: 0.4303 - val_categorical_accuracy: 0.8600 - lr: 2.0000e-04\n",
      "Epoch 16/30\n",
      "22/23 [===========================>..] - ETA: 1s - loss: 0.0219 - categorical_accuracy: 0.9939\n",
      "Epoch 00016: saving model to model_init_2021-07-1211_32_43.416098/model-00016-0.02183-0.99397-0.39847-0.86000.h5\n",
      "23/23 [==============================] - 43s 2s/step - loss: 0.0218 - categorical_accuracy: 0.9940 - val_loss: 0.3985 - val_categorical_accuracy: 0.8600 - lr: 2.0000e-04\n",
      "Epoch 17/30\n",
      "22/23 [===========================>..] - ETA: 1s - loss: 0.0168 - categorical_accuracy: 0.9985\n",
      "Epoch 00017: saving model to model_init_2021-07-1211_32_43.416098/model-00017-0.02237-0.99698-0.45164-0.85000.h5\n",
      "23/23 [==============================] - 44s 2s/step - loss: 0.0224 - categorical_accuracy: 0.9970 - val_loss: 0.4516 - val_categorical_accuracy: 0.8500 - lr: 2.0000e-04\n",
      "Epoch 18/30\n",
      "22/23 [===========================>..] - ETA: 1s - loss: 0.0221 - categorical_accuracy: 0.9970\n",
      "Epoch 00018: saving model to model_init_2021-07-1211_32_43.416098/model-00018-0.02247-0.99698-0.40843-0.84000.h5\n",
      "22/23 [===========================>..] - ETA: 1s - loss: 0.0098 - categorical_accuracy: 1.0000\n",
      "Epoch 00019: saving model to model_init_2021-07-1211_32_43.416098/model-00019-0.00990-1.00000-0.41006-0.88000.h5\n",
      "23/23 [==============================] - 45s 2s/step - loss: 0.0099 - categorical_accuracy: 1.0000 - val_loss: 0.4101 - val_categorical_accuracy: 0.8800 - lr: 4.0000e-05\n",
      "Epoch 20/30\n",
      "22/23 [===========================>..] - ETA: 1s - loss: 0.0104 - categorical_accuracy: 1.0000\n",
      "Epoch 00020: saving model to model_init_2021-07-1211_32_43.416098/model-00020-0.01078-1.00000-0.42679-0.87000.h5\n",
      "23/23 [==============================] - 43s 2s/step - loss: 0.0108 - categorical_accuracy: 1.0000 - val_loss: 0.4268 - val_categorical_accuracy: 0.8700 - lr: 4.0000e-05\n",
      "Epoch 21/30\n",
      "22/23 [===========================>..] - ETA: 1s - loss: 0.0126 - categorical_accuracy: 0.9985\n",
      "Epoch 00021: saving model to model_init_2021-07-1211_32_43.416098/model-00021-0.01282-0.99849-0.39963-0.87000.h5\n",
      "23/23 [==============================] - 45s 2s/step - loss: 0.0128 - categorical_accuracy: 0.9985 - val_loss: 0.3996 - val_categorical_accuracy: 0.8700 - lr: 4.0000e-05\n",
      "Epoch 22/30\n",
      "22/23 [===========================>..] - ETA: 1s - loss: 0.0175 - categorical_accuracy: 0.9985\n",
      "Epoch 00022: saving model to model_init_2021-07-1211_32_43.416098/model-00022-0.01750-0.99849-0.35151-0.89000.h5\n",
      "23/23 [==============================] - 44s 2s/step - loss: 0.0175 - categorical_accuracy: 0.9985 - val_loss: 0.3515 - val_categorical_accuracy: 0.8900 - lr: 4.0000e-05\n",
      "Epoch 23/30\n",
      "22/23 [===========================>..] - ETA: 1s - loss: 0.0132 - categorical_accuracy: 0.9985\n",
      "Epoch 00023: saving model to model_init_2021-07-1211_32_43.416098/model-00023-0.01525-0.99698-0.49941-0.85000.h5\n",
      "23/23 [==============================] - 44s 2s/step - loss: 0.0152 - categorical_accuracy: 0.9970 - val_loss: 0.4994 - val_categorical_accuracy: 0.8500 - lr: 4.0000e-05\n",
      "Epoch 24/30\n",
      "22/23 [===========================>..] - ETA: 1s - loss: 0.0192 - categorical_accuracy: 0.9955\n",
      "Epoch 00024: saving model to model_init_2021-07-1211_32_43.416098/model-00024-0.01951-0.99548-0.44951-0.84000.h5\n",
      "23/23 [==============================] - 43s 2s/step - loss: 0.0195 - categorical_accuracy: 0.9955 - val_loss: 0.4495 - val_categorical_accuracy: 0.8400 - lr: 4.0000e-05\n",
      "Epoch 25/30\n",
      "22/23 [===========================>..] - ETA: 1s - loss: 0.0067 - categorical_accuracy: 1.0000\n",
      "Epoch 00025: saving model to model_init_2021-07-1211_32_43.416098/model-00025-0.00677-1.00000-0.40716-0.88000.h5\n",
      "23/23 [==============================] - 44s 2s/step - loss: 0.0068 - categorical_accuracy: 1.0000 - val_loss: 0.4072 - val_categorical_accuracy: 0.8800 - lr: 4.0000e-05\n",
      "Epoch 26/30\n",
      "22/23 [===========================>..] - ETA: 1s - loss: 0.0132 - categorical_accuracy: 0.9970\n",
      "Epoch 00026: saving model to model_init_2021-07-1211_32_43.416098/model-00026-0.01343-0.99698-0.56297-0.85000.h5\n",
      "\n",
      "Epoch 00026: ReduceLROnPlateau reducing learning rate to 8.000000525498762e-06.\n",
      "23/23 [==============================] - 44s 2s/step - loss: 0.0134 - categorical_accuracy: 0.9970 - val_loss: 0.5630 - val_categorical_accuracy: 0.8500 - lr: 4.0000e-05\n",
      "Epoch 27/30\n",
      "22/23 [===========================>..] - ETA: 1s - loss: 0.0107 - categorical_accuracy: 0.9985\n",
      "Epoch 00027: saving model to model_init_2021-07-1211_32_43.416098/model-00027-0.01231-0.99849-0.27307-0.89000.h5\n",
      "23/23 [==============================] - 44s 2s/step - loss: 0.0123 - categorical_accuracy: 0.9985 - val_loss: 0.2731 - val_categorical_accuracy: 0.8900 - lr: 8.0000e-06\n",
      "Epoch 28/30\n",
      "22/23 [===========================>..] - ETA: 1s - loss: 0.0125 - categorical_accuracy: 0.9970\n",
      "Epoch 00028: saving model to model_init_2021-07-1211_32_43.416098/model-00028-0.01471-0.99548-0.43873-0.86000.h5\n",
      "23/23 [==============================] - 43s 2s/step - loss: 0.0147 - categorical_accuracy: 0.9955 - val_loss: 0.4387 - val_categorical_accuracy: 0.8600 - lr: 8.0000e-06\n",
      "Epoch 29/30\n",
      "22/23 [===========================>..] - ETA: 1s - loss: 0.0085 - categorical_accuracy: 1.0000\n",
      "Epoch 00029: saving model to model_init_2021-07-1211_32_43.416098/model-00029-0.00855-1.00000-0.40075-0.86000.h5\n",
      "23/23 [==============================] - 44s 2s/step - loss: 0.0086 - categorical_accuracy: 1.0000 - val_loss: 0.4008 - val_categorical_accuracy: 0.8600 - lr: 8.0000e-06\n",
      "Epoch 30/30\n",
      "22/23 [===========================>..] - ETA: 1s - loss: 0.0071 - categorical_accuracy: 1.0000\n",
      "Epoch 00030: saving model to model_init_2021-07-1211_32_43.416098/model-00030-0.00721-1.00000-0.39803-0.89000.h5\n",
      "23/23 [==============================] - 44s 2s/step - loss: 0.0072 - categorical_accuracy: 1.0000 - val_loss: 0.3980 - val_categorical_accuracy: 0.8900 - lr: 8.0000e-06\n"
     ]
    },
    {
     "data": {
      "text/plain": [
       "<tensorflow.python.keras.callbacks.History at 0x7f3ae017d978>"
      ]
     },
     "execution_count": 18,
     "metadata": {},
     "output_type": "execute_result"
    }
   ],
   "source": [
    "model.fit_generator(train_generator, steps_per_epoch=steps_per_epoch, epochs=num_epochs, verbose=1, \n",
    "                            callbacks=callbacks_list, validation_data=val_generator, \n",
    "                            validation_steps=validation_steps, class_weight=None, workers=1, initial_epoch=0)"
   ]
  },
  {
   "cell_type": "code",
   "execution_count": null,
   "metadata": {},
   "outputs": [],
   "source": []
  }
 ],
 "metadata": {
  "colab": {
   "collapsed_sections": [],
   "name": "Neural_Nets_Project_Starter_Code.ipynb",
   "provenance": []
  },
  "kernelspec": {
   "display_name": "Python 3",
   "language": "python",
   "name": "python3"
  },
  "language_info": {
   "codemirror_mode": {
    "name": "ipython",
    "version": 3
   },
   "file_extension": ".py",
   "mimetype": "text/x-python",
   "name": "python",
   "nbconvert_exporter": "python",
   "pygments_lexer": "ipython3",
   "version": "3.8.8"
  }
 },
 "nbformat": 4,
 "nbformat_minor": 1
}
